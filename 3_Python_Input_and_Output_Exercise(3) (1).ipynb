{
 "cells": [
  {
   "cell_type": "markdown",
   "id": "ivjHcXHgHQdo",
   "metadata": {
    "id": "ivjHcXHgHQdo"
   },
   "source": [
    "##### Question 1 Find The Octal Number of The given Decimal Number"
   ]
  },
  {
   "cell_type": "markdown",
   "id": "P2PqQF7jHQdx",
   "metadata": {
    "id": "P2PqQF7jHQdx"
   },
   "source": [
    "##### Answer 1"
   ]
  },
  {
   "cell_type": "code",
   "execution_count": 1,
   "id": "kIFGMPORHQdz",
   "metadata": {
    "colab": {
     "base_uri": "https://localhost:8080/"
    },
    "id": "kIFGMPORHQdz",
    "outputId": "f8880f1d-0bed-4d52-a88c-7af54c7c9239"
   },
   "outputs": [
    {
     "name": "stdout",
     "output_type": "stream",
     "text": [
      "Enter a Number8\n"
     ]
    }
   ],
   "source": [
    "d = int(input(\"Enter a Number\"))"
   ]
  },
  {
   "cell_type": "code",
   "execution_count": 2,
   "id": "et55hwCWHQd2",
   "metadata": {
    "colab": {
     "base_uri": "https://localhost:8080/"
    },
    "id": "et55hwCWHQd2",
    "outputId": "1009435b-eda7-4e12-92ec-28dad1c85321"
   },
   "outputs": [
    {
     "name": "stdout",
     "output_type": "stream",
     "text": [
      "Octal Number of decimal no 8 is 10\n"
     ]
    }
   ],
   "source": [
    "print(\"Octal Number of decimal no %d is %o\"%(d,d))"
   ]
  },
  {
   "cell_type": "code",
   "execution_count": 3,
   "id": "uRE0h_6WHQd4",
   "metadata": {
    "colab": {
     "base_uri": "https://localhost:8080/"
    },
    "id": "uRE0h_6WHQd4",
    "outputId": "672303f8-89f2-4743-ba20-ec27d42b16b3"
   },
   "outputs": [
    {
     "name": "stdout",
     "output_type": "stream",
     "text": [
      "Enter a Number8\n"
     ]
    }
   ],
   "source": [
    "d = int(input(\"Enter a Number\"))"
   ]
  },
  {
   "cell_type": "code",
   "execution_count": 4,
   "id": "0TFo6vslHQd6",
   "metadata": {
    "colab": {
     "base_uri": "https://localhost:8080/"
    },
    "id": "0TFo6vslHQd6",
    "outputId": "a2b13599-03f1-4439-d9ff-a118cf72f1fd"
   },
   "outputs": [
    {
     "name": "stdout",
     "output_type": "stream",
     "text": [
      "Octal Number of decimal no 8 is 0o10\n"
     ]
    }
   ],
   "source": [
    "print(f\"Octal Number of decimal no {d} is {oct(d)}\")"
   ]
  },
  {
   "cell_type": "markdown",
   "id": "rEg-YTXXHQd7",
   "metadata": {
    "id": "rEg-YTXXHQd7"
   },
   "source": [
    "##### Question 2 Check Whether a Given Number is Even or Odd.  (Print True or False).  Note: Without using if else."
   ]
  },
  {
   "cell_type": "markdown",
   "id": "yhSXPiWGHQd8",
   "metadata": {
    "id": "yhSXPiWGHQd8"
   },
   "source": [
    "##### Answer 2"
   ]
  },
  {
   "cell_type": "code",
   "execution_count": 5,
   "id": "F7ECx84sHQd_",
   "metadata": {
    "colab": {
     "base_uri": "https://localhost:8080/"
    },
    "id": "F7ECx84sHQd_",
    "outputId": "72961eb7-f1dd-4bd8-e7a3-71e1eac7c52f"
   },
   "outputs": [
    {
     "name": "stdout",
     "output_type": "stream",
     "text": [
      "Enter a Number10\n",
      "Is Given Number is Even? True\n"
     ]
    }
   ],
   "source": [
    "num = int(input(\"Enter a Number\"))\n",
    "print(f\"Is Given Number is Even? {eval('num%2==0')}\")"
   ]
  },
  {
   "cell_type": "markdown",
   "id": "we7dVlVBHQeB",
   "metadata": {
    "id": "we7dVlVBHQeB"
   },
   "source": [
    "##### Question 3 Which of the following string declarations span to more than one line and considers whitespace properly when the string is printed to the console?\n"
   ]
  },
  {
   "cell_type": "code",
   "execution_count": 6,
   "id": "-fL_3OHmHQeD",
   "metadata": {
    "id": "-fL_3OHmHQeD"
   },
   "outputs": [],
   "source": [
    "# str1 = \"\"\"Python is the best programming \n",
    "# language of this \n",
    "# planet earth \"\"\"\n",
    "# --------------------------------------------------------\n",
    "\n",
    "# str1 ='Python is the best programming\n",
    "# language of this\n",
    "# planet earth'\n",
    "# ---------------------------------------------------------\n",
    "# str1= \" Python is the best programming\n",
    "# language of this\n",
    "# planet earth\n",
    "# \"\n",
    "# ---------------------------------------------------------\n",
    "# str1= 'Python is the best programming \\n\n",
    "# language of this \\n\n",
    "# planet earth'\n",
    "# --------------------------------------------------------\n",
    "# str1 = \"\"\"Python is the best programming \\\n",
    "# language of this \\\n",
    "# planet earth \"\"\""
   ]
  },
  {
   "cell_type": "markdown",
   "id": "PyVAv5PiHQeG",
   "metadata": {
    "id": "PyVAv5PiHQeG"
   },
   "source": [
    "##### Answer 3"
   ]
  },
  {
   "cell_type": "code",
   "execution_count": 7,
   "id": "MXiqpltmHQeH",
   "metadata": {
    "colab": {
     "base_uri": "https://localhost:8080/"
    },
    "id": "MXiqpltmHQeH",
    "outputId": "c434401c-e06b-4fbd-ac25-7ebdccbb775c"
   },
   "outputs": [
    {
     "name": "stdout",
     "output_type": "stream",
     "text": [
      "Python is the best programming language of this planet earth \n"
     ]
    }
   ],
   "source": [
    "str1 = \"\"\"Python is the best programming \\\n",
    "language of this \\\n",
    "planet earth \"\"\"\n",
    "print(str1)"
   ]
  },
  {
   "cell_type": "markdown",
   "id": "ReQtN661HQeI",
   "metadata": {
    "id": "ReQtN661HQeI"
   },
   "source": [
    "##### Question 4 If the user enters 54321 as input, Which of the following code will print 54322 to the console?"
   ]
  },
  {
   "cell_type": "code",
   "execution_count": 8,
   "id": "ec8o8gg-HQeJ",
   "metadata": {
    "id": "ec8o8gg-HQeJ"
   },
   "outputs": [],
   "source": [
    "# count = input(\"Enter a number\")\n",
    "# print(int(count) + 1)\n",
    "# ----------------------------------------------\n",
    "# count = input(\"Enter a number\")\n",
    "# print(count + 1)\n",
    "# ----------------------------------------------\n",
    "# count = int(input(\"Enter a number\"))\n",
    "# print(count + 1)\n",
    "# ----------------------------------------------\n",
    "# count = eval(input(\"Enter a number\"))\n",
    "# print(count + 1)"
   ]
  },
  {
   "cell_type": "markdown",
   "id": "Bt5ealN3HQeK",
   "metadata": {
    "id": "Bt5ealN3HQeK"
   },
   "source": [
    "##### Answer 4"
   ]
  },
  {
   "cell_type": "code",
   "execution_count": 9,
   "id": "MjpTtJXjHQeL",
   "metadata": {
    "colab": {
     "base_uri": "https://localhost:8080/"
    },
    "id": "MjpTtJXjHQeL",
    "outputId": "d08eacb1-23e1-483c-e398-2e91b6505951"
   },
   "outputs": [
    {
     "name": "stdout",
     "output_type": "stream",
     "text": [
      "Enter a number54321\n",
      "<class 'int'>\n"
     ]
    }
   ],
   "source": [
    "count = eval(input(\"Enter a number\"))\n",
    "print(type(count))\n",
    "#print(count + 1)"
   ]
  },
  {
   "cell_type": "markdown",
   "id": "Lhbw5bQ8HQeN",
   "metadata": {
    "id": "Lhbw5bQ8HQeN"
   },
   "source": [
    "##### Question 5 Accept  three strings using only one input() function."
   ]
  },
  {
   "cell_type": "markdown",
   "id": "rUn1HsyLHQeO",
   "metadata": {
    "id": "rUn1HsyLHQeO"
   },
   "source": [
    "##### Answer 5"
   ]
  },
  {
   "cell_type": "code",
   "execution_count": 10,
   "id": "SSDlyUPvHQeO",
   "metadata": {
    "colab": {
     "base_uri": "https://localhost:8080/"
    },
    "id": "SSDlyUPvHQeO",
    "outputId": "5ee082e8-bf2a-4f57-e20e-63bec5f391c6"
   },
   "outputs": [
    {
     "name": "stdout",
     "output_type": "stream",
     "text": [
      "Enter three strings seperated with spaceone two three\n"
     ]
    }
   ],
   "source": [
    "str1,str2,str3=input(\"Enter three strings seperated with space\").split(' ')"
   ]
  },
  {
   "cell_type": "code",
   "execution_count": 11,
   "id": "EvrKaqQsHQeP",
   "metadata": {
    "colab": {
     "base_uri": "https://localhost:8080/"
    },
    "id": "EvrKaqQsHQeP",
    "outputId": "a0d8d4fd-2cc6-4b60-fdcd-37e40323850a"
   },
   "outputs": [
    {
     "name": "stdout",
     "output_type": "stream",
     "text": [
      "one two three\n"
     ]
    }
   ],
   "source": [
    "print(str1,str2,str3)"
   ]
  },
  {
   "cell_type": "markdown",
   "id": "_46UWXOvHQeQ",
   "metadata": {
    "id": "_46UWXOvHQeQ"
   },
   "source": [
    "##### Question 6 Print the strings as per given format.\n",
    "\n",
    "**Input**:\n",
    "\n",
    "\"Python\" \"Programming\" \"class\" \"By\" \"Priyang\"\n",
    "\n",
    "**Output**: \n",
    "``` \n",
    "Python**Programming**class**By**Priyang###\n",
    "```"
   ]
  },
  {
   "cell_type": "markdown",
   "id": "m01bAOK-HQeR",
   "metadata": {
    "id": "m01bAOK-HQeR"
   },
   "source": [
    "##### Answer 6"
   ]
  },
  {
   "cell_type": "code",
   "execution_count": 12,
   "id": "JVxe6fQLHQeS",
   "metadata": {
    "colab": {
     "base_uri": "https://localhost:8080/"
    },
    "id": "JVxe6fQLHQeS",
    "outputId": "b3b58a40-005d-495c-eef5-875fae20ca99"
   },
   "outputs": [
    {
     "name": "stdout",
     "output_type": "stream",
     "text": [
      "Python**Programming**class**By**Priyang###"
     ]
    }
   ],
   "source": [
    "print(\"Python\",\"Programming\",\"class\",\"By\",\"Priyang\",sep=\"**\",end=\"###\")"
   ]
  },
  {
   "cell_type": "markdown",
   "id": "pSGUCZ38HQeT",
   "metadata": {
    "id": "pSGUCZ38HQeT"
   },
   "source": [
    "##### 7 Consider the following code:\n",
    "\n",
    "##### print(type(input('Enter some value:')))\n",
    "\n",
    "##### if we enter 11,\"abc\" and 12.0 individually for every run what is the output?"
   ]
  },
  {
   "cell_type": "markdown",
   "id": "hraMoE4CHQeU",
   "metadata": {
    "id": "hraMoE4CHQeU"
   },
   "source": [
    "##### Answer 7"
   ]
  },
  {
   "cell_type": "code",
   "execution_count": 13,
   "id": "KCvwU2crHQeV",
   "metadata": {
    "colab": {
     "base_uri": "https://localhost:8080/"
    },
    "id": "KCvwU2crHQeV",
    "outputId": "ef017d92-c51e-4f56-eb15-f8d71cb1f7d5"
   },
   "outputs": [
    {
     "name": "stdout",
     "output_type": "stream",
     "text": [
      "Enter some value:12.0\n",
      "<class 'str'>\n"
     ]
    }
   ],
   "source": [
    "print(type(input('Enter some value:')))"
   ]
  },
  {
   "cell_type": "markdown",
   "id": "LUyk5GzFHQeW",
   "metadata": {
    "id": "LUyk5GzFHQeW"
   },
   "source": [
    "##### Question 8 Consider the following code:\n",
    "\n",
    "##### print(type(eval(input('Enter some value:'))))\n",
    "\n",
    "##### if we enter 11,\"abc\" and 12.0 individually for every run what is the output?"
   ]
  },
  {
   "cell_type": "markdown",
   "id": "5qDG0Zj5HQeX",
   "metadata": {
    "id": "5qDG0Zj5HQeX"
   },
   "source": [
    "##### Answer 8"
   ]
  },
  {
   "cell_type": "code",
   "execution_count": 14,
   "id": "2IPErXw0HQeY",
   "metadata": {
    "colab": {
     "base_uri": "https://localhost:8080/"
    },
    "id": "2IPErXw0HQeY",
    "outputId": "c389f52a-df25-47ac-f27f-6aa0d9d5edda"
   },
   "outputs": [
    {
     "name": "stdout",
     "output_type": "stream",
     "text": [
      "Enter some value:12.0\n",
      "<class 'float'>\n"
     ]
    }
   ],
   "source": [
    "print(type(eval(input('Enter some value:'))))"
   ]
  },
  {
   "cell_type": "markdown",
   "id": "10HZuI7cHQeY",
   "metadata": {
    "id": "10HZuI7cHQeY"
   },
   "source": [
    "##### Question 9\n",
    "##### Consider The Below declarations:\n",
    "##### a='7'\n",
    "##### b='3'\n",
    "##### Which of the following expressions are valid on the string?\n",
    "\n",
    "##### a+b\n",
    "##### a-b\n",
    "##### a*b\n",
    "##### a/b\n",
    "##### a*2"
   ]
  },
  {
   "cell_type": "markdown",
   "id": "8rK4NL63HQeZ",
   "metadata": {
    "id": "8rK4NL63HQeZ"
   },
   "source": [
    "##### Answer 9"
   ]
  },
  {
   "cell_type": "code",
   "execution_count": 15,
   "id": "RzZiMG9NHQea",
   "metadata": {
    "id": "RzZiMG9NHQea"
   },
   "outputs": [],
   "source": [
    "a='7'\n",
    "b='3'"
   ]
  },
  {
   "cell_type": "code",
   "execution_count": 16,
   "id": "TcXKbVeZHQeb",
   "metadata": {
    "colab": {
     "base_uri": "https://localhost:8080/",
     "height": 35
    },
    "id": "TcXKbVeZHQeb",
    "outputId": "1ae4db4c-df3b-4643-fa68-c13ed48ad67d"
   },
   "outputs": [
    {
     "data": {
      "text/plain": [
       "'73'"
      ]
     },
     "execution_count": 16,
     "metadata": {},
     "output_type": "execute_result"
    }
   ],
   "source": [
    "a+b"
   ]
  },
  {
   "cell_type": "code",
   "execution_count": 17,
   "id": "DAe6WEDeHQec",
   "metadata": {
    "colab": {
     "base_uri": "https://localhost:8080/",
     "height": 169
    },
    "id": "DAe6WEDeHQec",
    "outputId": "ce0bbf90-f292-44c7-fbd3-b17c35c7b08d"
   },
   "outputs": [
    {
     "ename": "TypeError",
     "evalue": "unsupported operand type(s) for -: 'str' and 'str'",
     "output_type": "error",
     "traceback": [
      "\u001b[1;31m---------------------------------------------------------------------------\u001b[0m",
      "\u001b[1;31mTypeError\u001b[0m                                 Traceback (most recent call last)",
      "Input \u001b[1;32mIn [17]\u001b[0m, in \u001b[0;36m<cell line: 1>\u001b[1;34m()\u001b[0m\n\u001b[1;32m----> 1\u001b[0m \u001b[43ma\u001b[49m\u001b[38;5;241;43m-\u001b[39;49m\u001b[43mb\u001b[49m\n",
      "\u001b[1;31mTypeError\u001b[0m: unsupported operand type(s) for -: 'str' and 'str'"
     ]
    }
   ],
   "source": [
    "a-b"
   ]
  },
  {
   "cell_type": "code",
   "execution_count": 18,
   "id": "xsYj-LDdHQed",
   "metadata": {
    "colab": {
     "base_uri": "https://localhost:8080/",
     "height": 169
    },
    "id": "xsYj-LDdHQed",
    "outputId": "e5472f95-8ee3-4dc1-8882-2eb27094bc9f"
   },
   "outputs": [
    {
     "ename": "TypeError",
     "evalue": "can't multiply sequence by non-int of type 'str'",
     "output_type": "error",
     "traceback": [
      "\u001b[1;31m---------------------------------------------------------------------------\u001b[0m",
      "\u001b[1;31mTypeError\u001b[0m                                 Traceback (most recent call last)",
      "Input \u001b[1;32mIn [18]\u001b[0m, in \u001b[0;36m<cell line: 1>\u001b[1;34m()\u001b[0m\n\u001b[1;32m----> 1\u001b[0m \u001b[43ma\u001b[49m\u001b[38;5;241;43m*\u001b[39;49m\u001b[43mb\u001b[49m\n",
      "\u001b[1;31mTypeError\u001b[0m: can't multiply sequence by non-int of type 'str'"
     ]
    }
   ],
   "source": [
    "a*b"
   ]
  },
  {
   "cell_type": "code",
   "execution_count": 19,
   "id": "S79zmJDAHQed",
   "metadata": {
    "colab": {
     "base_uri": "https://localhost:8080/",
     "height": 169
    },
    "id": "S79zmJDAHQed",
    "outputId": "cbf52c5d-2071-4ccd-c736-1be4d4f1729a"
   },
   "outputs": [
    {
     "ename": "TypeError",
     "evalue": "unsupported operand type(s) for /: 'str' and 'str'",
     "output_type": "error",
     "traceback": [
      "\u001b[1;31m---------------------------------------------------------------------------\u001b[0m",
      "\u001b[1;31mTypeError\u001b[0m                                 Traceback (most recent call last)",
      "Input \u001b[1;32mIn [19]\u001b[0m, in \u001b[0;36m<cell line: 1>\u001b[1;34m()\u001b[0m\n\u001b[1;32m----> 1\u001b[0m \u001b[43ma\u001b[49m\u001b[38;5;241;43m/\u001b[39;49m\u001b[43mb\u001b[49m\n",
      "\u001b[1;31mTypeError\u001b[0m: unsupported operand type(s) for /: 'str' and 'str'"
     ]
    }
   ],
   "source": [
    "a/b"
   ]
  },
  {
   "cell_type": "code",
   "execution_count": 20,
   "id": "beRN9HniHQee",
   "metadata": {
    "colab": {
     "base_uri": "https://localhost:8080/",
     "height": 35
    },
    "id": "beRN9HniHQee",
    "outputId": "e477e56b-8d6a-4001-c402-486e1674230f"
   },
   "outputs": [
    {
     "data": {
      "text/plain": [
       "'77'"
      ]
     },
     "execution_count": 20,
     "metadata": {},
     "output_type": "execute_result"
    }
   ],
   "source": [
    "a*2"
   ]
  },
  {
   "cell_type": "markdown",
   "id": "Va-4j-O0HQef",
   "metadata": {
    "id": "Va-4j-O0HQef"
   },
   "source": [
    "##### Question 10 Create a program that asks the user to enter their name and their age.Print out a message that tells them the year that they will turn 100 years old."
   ]
  },
  {
   "cell_type": "markdown",
   "id": "vUjE-A5WHQeg",
   "metadata": {
    "id": "vUjE-A5WHQeg"
   },
   "source": [
    "##### Answer 10"
   ]
  },
  {
   "cell_type": "code",
   "execution_count": 21,
   "id": "QEwjo7AeHQeg",
   "metadata": {
    "id": "QEwjo7AeHQeg"
   },
   "outputs": [
    {
     "data": {
      "text/plain": [
       "2082"
      ]
     },
     "execution_count": 21,
     "metadata": {},
     "output_type": "execute_result"
    }
   ],
   "source": [
    "2022 - 40 + 100"
   ]
  },
  {
   "cell_type": "code",
   "execution_count": 22,
   "id": "vUi1JGgGHQeh",
   "metadata": {
    "colab": {
     "base_uri": "https://localhost:8080/"
    },
    "id": "vUi1JGgGHQeh",
    "outputId": "b4bed90c-7e68-4522-ae9b-1acecf4b4940"
   },
   "outputs": [
    {
     "name": "stdout",
     "output_type": "stream",
     "text": [
      "Enter your nameanil\n",
      "How old are you?40\n",
      "anil will be 100 years old in the year 2082\n"
     ]
    }
   ],
   "source": [
    "name = input(\"Enter your name\")\n",
    "age = int(input(\"How old are you?\"))\n",
    "year = str((2022-age) + 100)\n",
    "print(f\"{name} will be 100 years old in the year {year}\")"
   ]
  },
  {
   "cell_type": "markdown",
   "id": "MX9hagozHQei",
   "metadata": {
    "id": "MX9hagozHQei"
   },
   "source": [
    "##### 11. Positional Vs. Keyword Arguments In the context of String Replacement Fields"
   ]
  },
  {
   "cell_type": "markdown",
   "id": "HSahITJAHQei",
   "metadata": {
    "id": "HSahITJAHQei"
   },
   "source": [
    "##### Answer 11"
   ]
  },
  {
   "cell_type": "code",
   "execution_count": 23,
   "id": "z8SmeYjJHQej",
   "metadata": {
    "id": "z8SmeYjJHQej"
   },
   "outputs": [],
   "source": [
    "name=\"anil\"\n",
    "age=40"
   ]
  },
  {
   "cell_type": "code",
   "execution_count": 24,
   "id": "CdFe1XNoHQej",
   "metadata": {
    "colab": {
     "base_uri": "https://localhost:8080/"
    },
    "id": "CdFe1XNoHQej",
    "outputId": "bc2d4ed4-529e-4fbc-ff70-a200f4eca6ea"
   },
   "outputs": [
    {
     "name": "stdout",
     "output_type": "stream",
     "text": [
      "anil is 40 years old\n"
     ]
    }
   ],
   "source": [
    "print(\"{} is {} years old\".format(name,age))"
   ]
  },
  {
   "cell_type": "code",
   "execution_count": 25,
   "id": "xDN_T3SBHQek",
   "metadata": {
    "colab": {
     "base_uri": "https://localhost:8080/"
    },
    "id": "xDN_T3SBHQek",
    "outputId": "ad5b1a18-3595-4f42-eb95-a752675666e5"
   },
   "outputs": [
    {
     "name": "stdout",
     "output_type": "stream",
     "text": [
      "anil is 40 years old\n"
     ]
    }
   ],
   "source": [
    "print(\"{n} is {a} years old\".format(a=age,n=name))"
   ]
  },
  {
   "cell_type": "code",
   "execution_count": 26,
   "id": "X9exinUrHQel",
   "metadata": {
    "colab": {
     "base_uri": "https://localhost:8080/"
    },
    "id": "X9exinUrHQel",
    "outputId": "f623a614-2937-4c5e-f63f-8180df7fdc2a"
   },
   "outputs": [
    {
     "name": "stdout",
     "output_type": "stream",
     "text": [
      "\n"
     ]
    }
   ],
   "source": [
    "print()"
   ]
  },
  {
   "cell_type": "code",
   "execution_count": null,
   "id": "6GbBENa8HsN2",
   "metadata": {
    "id": "6GbBENa8HsN2"
   },
   "outputs": [],
   "source": []
  }
 ],
 "metadata": {
  "colab": {
   "provenance": []
  },
  "kernelspec": {
   "display_name": "Python 3 (ipykernel)",
   "language": "python",
   "name": "python3"
  },
  "language_info": {
   "codemirror_mode": {
    "name": "ipython",
    "version": 3
   },
   "file_extension": ".py",
   "mimetype": "text/x-python",
   "name": "python",
   "nbconvert_exporter": "python",
   "pygments_lexer": "ipython3",
   "version": "3.9.12"
  }
 },
 "nbformat": 4,
 "nbformat_minor": 5
}
