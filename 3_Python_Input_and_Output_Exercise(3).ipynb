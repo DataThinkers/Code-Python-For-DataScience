{
  "cells": [
    {
      "cell_type": "markdown",
      "metadata": {
        "id": "ivjHcXHgHQdo"
      },
      "source": [
        "##### Question 1 Find The Octal Number of The given Decimal Number"
      ],
      "id": "ivjHcXHgHQdo"
    },
    {
      "cell_type": "markdown",
      "metadata": {
        "id": "P2PqQF7jHQdx"
      },
      "source": [
        "##### Answer 1"
      ],
      "id": "P2PqQF7jHQdx"
    },
    {
      "cell_type": "code",
      "execution_count": 1,
      "metadata": {
        "colab": {
          "base_uri": "https://localhost:8080/"
        },
        "id": "kIFGMPORHQdz",
        "outputId": "f8880f1d-0bed-4d52-a88c-7af54c7c9239"
      },
      "outputs": [
        {
          "name": "stdout",
          "output_type": "stream",
          "text": [
            "Enter a Number8\n"
          ]
        }
      ],
      "source": [
        "d = int(input(\"Enter a Number\"))"
      ],
      "id": "kIFGMPORHQdz"
    },
    {
      "cell_type": "code",
      "execution_count": 2,
      "metadata": {
        "colab": {
          "base_uri": "https://localhost:8080/"
        },
        "id": "et55hwCWHQd2",
        "outputId": "1009435b-eda7-4e12-92ec-28dad1c85321"
      },
      "outputs": [
        {
          "output_type": "stream",
          "name": "stdout",
          "text": [
            "Octal Number of decimal no 8 is 10\n"
          ]
        }
      ],
      "source": [
        "print(\"Octal Number of decimal no %d is %o\"%(d,d))"
      ],
      "id": "et55hwCWHQd2"
    },
    {
      "cell_type": "code",
      "execution_count": 3,
      "metadata": {
        "colab": {
          "base_uri": "https://localhost:8080/"
        },
        "id": "uRE0h_6WHQd4",
        "outputId": "672303f8-89f2-4743-ba20-ec27d42b16b3"
      },
      "outputs": [
        {
          "name": "stdout",
          "output_type": "stream",
          "text": [
            "Enter a Number8\n"
          ]
        }
      ],
      "source": [
        "d = int(input(\"Enter a Number\"))"
      ],
      "id": "uRE0h_6WHQd4"
    },
    {
      "cell_type": "code",
      "execution_count": 4,
      "metadata": {
        "colab": {
          "base_uri": "https://localhost:8080/"
        },
        "id": "0TFo6vslHQd6",
        "outputId": "a2b13599-03f1-4439-d9ff-a118cf72f1fd"
      },
      "outputs": [
        {
          "output_type": "stream",
          "name": "stdout",
          "text": [
            "Octal Number of decimal no 8 is 0o10\n"
          ]
        }
      ],
      "source": [
        "print(f\"Octal Number of decimal no {d} is {oct(d)}\")"
      ],
      "id": "0TFo6vslHQd6"
    },
    {
      "cell_type": "markdown",
      "metadata": {
        "id": "rEg-YTXXHQd7"
      },
      "source": [
        "##### Question 2 Check Whether a Given Number is Even or Odd.  (Print True or False).  Note: Without using if else."
      ],
      "id": "rEg-YTXXHQd7"
    },
    {
      "cell_type": "markdown",
      "metadata": {
        "id": "yhSXPiWGHQd8"
      },
      "source": [
        "##### Answer 2"
      ],
      "id": "yhSXPiWGHQd8"
    },
    {
      "cell_type": "code",
      "execution_count": 5,
      "metadata": {
        "colab": {
          "base_uri": "https://localhost:8080/"
        },
        "id": "F7ECx84sHQd_",
        "outputId": "72961eb7-f1dd-4bd8-e7a3-71e1eac7c52f"
      },
      "outputs": [
        {
          "output_type": "stream",
          "name": "stdout",
          "text": [
            "Enter a Number10\n",
            "Is Given Number is Even? True\n"
          ]
        }
      ],
      "source": [
        "num = int(input(\"Enter a Number\"))\n",
        "print(f\"Is Given Number is Even? {eval('num%2==0')}\")"
      ],
      "id": "F7ECx84sHQd_"
    },
    {
      "cell_type": "markdown",
      "metadata": {
        "id": "we7dVlVBHQeB"
      },
      "source": [
        "##### Question 3 Which of the following string declarations span to more than one line and considers whitespace properly when the string is printed to the console?\n"
      ],
      "id": "we7dVlVBHQeB"
    },
    {
      "cell_type": "code",
      "execution_count": 6,
      "metadata": {
        "id": "-fL_3OHmHQeD"
      },
      "outputs": [],
      "source": [
        "# str1 = \"\"\"Python is the best programming \n",
        "# language of this \n",
        "# planet earth \"\"\"\n",
        "# --------------------------------------------------------\n",
        "\n",
        "# str1 ='Python is the best programming\n",
        "# language of this\n",
        "# planet earth'\n",
        "# ---------------------------------------------------------\n",
        "# str1= \" Python is the best programming\n",
        "# language of this\n",
        "# planet earth\n",
        "# \"\n",
        "# ---------------------------------------------------------\n",
        "# str1= 'Python is the best programming \\n\n",
        "# language of this \\n\n",
        "# planet earth'\n",
        "# --------------------------------------------------------\n",
        "# str1 = \"\"\"Python is the best programming \\\n",
        "# language of this \\\n",
        "# planet earth \"\"\""
      ],
      "id": "-fL_3OHmHQeD"
    },
    {
      "cell_type": "markdown",
      "metadata": {
        "id": "PyVAv5PiHQeG"
      },
      "source": [
        "##### Answer 3"
      ],
      "id": "PyVAv5PiHQeG"
    },
    {
      "cell_type": "code",
      "execution_count": 7,
      "metadata": {
        "colab": {
          "base_uri": "https://localhost:8080/"
        },
        "id": "MXiqpltmHQeH",
        "outputId": "c434401c-e06b-4fbd-ac25-7ebdccbb775c"
      },
      "outputs": [
        {
          "output_type": "stream",
          "name": "stdout",
          "text": [
            "Python is the best programming language of this planet earth \n"
          ]
        }
      ],
      "source": [
        "str1 = \"\"\"Python is the best programming \\\n",
        "language of this \\\n",
        "planet earth \"\"\"\n",
        "print(str1)"
      ],
      "id": "MXiqpltmHQeH"
    },
    {
      "cell_type": "markdown",
      "metadata": {
        "id": "ReQtN661HQeI"
      },
      "source": [
        "##### Question 4 If the user enters 54321 as input, Which of the following code will print 54322 to the console?"
      ],
      "id": "ReQtN661HQeI"
    },
    {
      "cell_type": "code",
      "execution_count": 8,
      "metadata": {
        "id": "ec8o8gg-HQeJ"
      },
      "outputs": [],
      "source": [
        "# count = input(\"Enter a number\")\n",
        "# print(int(count) + 1)\n",
        "# ----------------------------------------------\n",
        "# count = input(\"Enter a number\")\n",
        "# print(count + 1)\n",
        "# ----------------------------------------------\n",
        "# count = int(input(\"Enter a number\"))\n",
        "# print(count + 1)\n",
        "# ----------------------------------------------\n",
        "# count = eval(input(\"Enter a number\"))\n",
        "# print(count + 1)"
      ],
      "id": "ec8o8gg-HQeJ"
    },
    {
      "cell_type": "markdown",
      "metadata": {
        "id": "Bt5ealN3HQeK"
      },
      "source": [
        "##### Answer 4"
      ],
      "id": "Bt5ealN3HQeK"
    },
    {
      "cell_type": "code",
      "execution_count": 9,
      "metadata": {
        "colab": {
          "base_uri": "https://localhost:8080/"
        },
        "id": "MjpTtJXjHQeL",
        "outputId": "d08eacb1-23e1-483c-e398-2e91b6505951"
      },
      "outputs": [
        {
          "output_type": "stream",
          "name": "stdout",
          "text": [
            "Enter a number54321\n",
            "<class 'int'>\n"
          ]
        }
      ],
      "source": [
        "count = eval(input(\"Enter a number\"))\n",
        "print(type(count))\n",
        "#print(count + 1)"
      ],
      "id": "MjpTtJXjHQeL"
    },
    {
      "cell_type": "markdown",
      "metadata": {
        "id": "Lhbw5bQ8HQeN"
      },
      "source": [
        "##### Question 5 Accept  three strings using only one input() function."
      ],
      "id": "Lhbw5bQ8HQeN"
    },
    {
      "cell_type": "markdown",
      "metadata": {
        "id": "rUn1HsyLHQeO"
      },
      "source": [
        "##### Answer 5"
      ],
      "id": "rUn1HsyLHQeO"
    },
    {
      "cell_type": "code",
      "execution_count": 10,
      "metadata": {
        "colab": {
          "base_uri": "https://localhost:8080/"
        },
        "id": "SSDlyUPvHQeO",
        "outputId": "5ee082e8-bf2a-4f57-e20e-63bec5f391c6"
      },
      "outputs": [
        {
          "name": "stdout",
          "output_type": "stream",
          "text": [
            "Enter three strings seperated with spaceone two three\n"
          ]
        }
      ],
      "source": [
        "str1,str2,str3=input(\"Enter three strings seperated with space\").split(' ')"
      ],
      "id": "SSDlyUPvHQeO"
    },
    {
      "cell_type": "code",
      "execution_count": 11,
      "metadata": {
        "colab": {
          "base_uri": "https://localhost:8080/"
        },
        "id": "EvrKaqQsHQeP",
        "outputId": "a0d8d4fd-2cc6-4b60-fdcd-37e40323850a"
      },
      "outputs": [
        {
          "output_type": "stream",
          "name": "stdout",
          "text": [
            "one two three\n"
          ]
        }
      ],
      "source": [
        "print(str1,str2,str3)"
      ],
      "id": "EvrKaqQsHQeP"
    },
    {
      "cell_type": "markdown",
      "metadata": {
        "id": "_46UWXOvHQeQ"
      },
      "source": [
        "##### Question 6 Print the strings as per given format.\n",
        "\n",
        "**Input**:\n",
        "\n",
        "\"Python\" \"Programming\" \"class\" \"By\" \"Priyang\"\n",
        "\n",
        "**Output**: \n",
        "``` \n",
        "Python**Programming**class**By**Priyang###\n",
        "```"
      ],
      "id": "_46UWXOvHQeQ"
    },
    {
      "cell_type": "markdown",
      "metadata": {
        "id": "m01bAOK-HQeR"
      },
      "source": [
        "##### Answer 6"
      ],
      "id": "m01bAOK-HQeR"
    },
    {
      "cell_type": "code",
      "execution_count": 12,
      "metadata": {
        "colab": {
          "base_uri": "https://localhost:8080/"
        },
        "id": "JVxe6fQLHQeS",
        "outputId": "b3b58a40-005d-495c-eef5-875fae20ca99"
      },
      "outputs": [
        {
          "output_type": "stream",
          "name": "stdout",
          "text": [
            "Python**Programming**class**By**Priyang###"
          ]
        }
      ],
      "source": [
        "print(\"Python\",\"Programming\",\"class\",\"By\",\"Priyang\",sep=\"**\",end=\"###\")"
      ],
      "id": "JVxe6fQLHQeS"
    },
    {
      "cell_type": "markdown",
      "metadata": {
        "id": "pSGUCZ38HQeT"
      },
      "source": [
        "##### 7 Consider the following code:\n",
        "\n",
        "##### print(type(input('Enter some value:')))\n",
        "\n",
        "##### if we enter 11,\"abc\" and 12.0 individually for every run what is the output?"
      ],
      "id": "pSGUCZ38HQeT"
    },
    {
      "cell_type": "markdown",
      "metadata": {
        "id": "hraMoE4CHQeU"
      },
      "source": [
        "##### Answer 7"
      ],
      "id": "hraMoE4CHQeU"
    },
    {
      "cell_type": "code",
      "execution_count": 13,
      "metadata": {
        "colab": {
          "base_uri": "https://localhost:8080/"
        },
        "id": "KCvwU2crHQeV",
        "outputId": "ef017d92-c51e-4f56-eb15-f8d71cb1f7d5"
      },
      "outputs": [
        {
          "output_type": "stream",
          "name": "stdout",
          "text": [
            "Enter some value:12.0\n",
            "<class 'str'>\n"
          ]
        }
      ],
      "source": [
        "print(type(input('Enter some value:')))"
      ],
      "id": "KCvwU2crHQeV"
    },
    {
      "cell_type": "markdown",
      "metadata": {
        "id": "LUyk5GzFHQeW"
      },
      "source": [
        "##### Question 8 Consider the following code:\n",
        "\n",
        "##### print(type(eval(input('Enter some value:'))))\n",
        "\n",
        "##### if we enter 11,\"abc\" and 12.0 individually for every run what is the output?"
      ],
      "id": "LUyk5GzFHQeW"
    },
    {
      "cell_type": "markdown",
      "metadata": {
        "id": "5qDG0Zj5HQeX"
      },
      "source": [
        "##### Answer 8"
      ],
      "id": "5qDG0Zj5HQeX"
    },
    {
      "cell_type": "code",
      "execution_count": 14,
      "metadata": {
        "colab": {
          "base_uri": "https://localhost:8080/"
        },
        "id": "2IPErXw0HQeY",
        "outputId": "c389f52a-df25-47ac-f27f-6aa0d9d5edda"
      },
      "outputs": [
        {
          "output_type": "stream",
          "name": "stdout",
          "text": [
            "Enter some value:12.0\n",
            "<class 'float'>\n"
          ]
        }
      ],
      "source": [
        "print(type(eval(input('Enter some value:'))))"
      ],
      "id": "2IPErXw0HQeY"
    },
    {
      "cell_type": "markdown",
      "metadata": {
        "id": "10HZuI7cHQeY"
      },
      "source": [
        "##### Question 9\n",
        "##### Consider The Below declarations:\n",
        "##### a='7'\n",
        "##### b='3'\n",
        "##### Which of the following expressions are valid on the string?\n",
        "\n",
        "##### a+b\n",
        "##### a-b\n",
        "##### a*b\n",
        "##### a/b\n",
        "##### a*2"
      ],
      "id": "10HZuI7cHQeY"
    },
    {
      "cell_type": "markdown",
      "metadata": {
        "id": "8rK4NL63HQeZ"
      },
      "source": [
        "##### Answer 9"
      ],
      "id": "8rK4NL63HQeZ"
    },
    {
      "cell_type": "code",
      "execution_count": 15,
      "metadata": {
        "id": "RzZiMG9NHQea"
      },
      "outputs": [],
      "source": [
        "a='7'\n",
        "b='3'"
      ],
      "id": "RzZiMG9NHQea"
    },
    {
      "cell_type": "code",
      "execution_count": 16,
      "metadata": {
        "colab": {
          "base_uri": "https://localhost:8080/",
          "height": 35
        },
        "id": "TcXKbVeZHQeb",
        "outputId": "1ae4db4c-df3b-4643-fa68-c13ed48ad67d"
      },
      "outputs": [
        {
          "output_type": "execute_result",
          "data": {
            "text/plain": [
              "'73'"
            ],
            "application/vnd.google.colaboratory.intrinsic+json": {
              "type": "string"
            }
          },
          "metadata": {},
          "execution_count": 16
        }
      ],
      "source": [
        "a+b"
      ],
      "id": "TcXKbVeZHQeb"
    },
    {
      "cell_type": "code",
      "execution_count": 17,
      "metadata": {
        "colab": {
          "base_uri": "https://localhost:8080/",
          "height": 169
        },
        "id": "DAe6WEDeHQec",
        "outputId": "ce0bbf90-f292-44c7-fbd3-b17c35c7b08d"
      },
      "outputs": [
        {
          "output_type": "error",
          "ename": "TypeError",
          "evalue": "ignored",
          "traceback": [
            "\u001b[0;31m---------------------------------------------------------------------------\u001b[0m",
            "\u001b[0;31mTypeError\u001b[0m                                 Traceback (most recent call last)",
            "\u001b[0;32m<ipython-input-17-5ae0619f8fe1>\u001b[0m in \u001b[0;36m<module>\u001b[0;34m\u001b[0m\n\u001b[0;32m----> 1\u001b[0;31m \u001b[0ma\u001b[0m\u001b[0;34m-\u001b[0m\u001b[0mb\u001b[0m\u001b[0;34m\u001b[0m\u001b[0;34m\u001b[0m\u001b[0m\n\u001b[0m",
            "\u001b[0;31mTypeError\u001b[0m: unsupported operand type(s) for -: 'str' and 'str'"
          ]
        }
      ],
      "source": [
        "a-b"
      ],
      "id": "DAe6WEDeHQec"
    },
    {
      "cell_type": "code",
      "execution_count": 23,
      "metadata": {
        "colab": {
          "base_uri": "https://localhost:8080/",
          "height": 169
        },
        "id": "xsYj-LDdHQed",
        "outputId": "e5472f95-8ee3-4dc1-8882-2eb27094bc9f"
      },
      "outputs": [
        {
          "output_type": "error",
          "ename": "TypeError",
          "evalue": "ignored",
          "traceback": [
            "\u001b[0;31m---------------------------------------------------------------------------\u001b[0m",
            "\u001b[0;31mTypeError\u001b[0m                                 Traceback (most recent call last)",
            "\u001b[0;32m<ipython-input-23-8ce765dcfa30>\u001b[0m in \u001b[0;36m<module>\u001b[0;34m\u001b[0m\n\u001b[0;32m----> 1\u001b[0;31m \u001b[0ma\u001b[0m\u001b[0;34m*\u001b[0m\u001b[0mb\u001b[0m\u001b[0;34m\u001b[0m\u001b[0;34m\u001b[0m\u001b[0m\n\u001b[0m",
            "\u001b[0;31mTypeError\u001b[0m: can't multiply sequence by non-int of type 'str'"
          ]
        }
      ],
      "source": [
        "a*b"
      ],
      "id": "xsYj-LDdHQed"
    },
    {
      "cell_type": "code",
      "execution_count": 24,
      "metadata": {
        "colab": {
          "base_uri": "https://localhost:8080/",
          "height": 169
        },
        "id": "S79zmJDAHQed",
        "outputId": "cbf52c5d-2071-4ccd-c736-1be4d4f1729a"
      },
      "outputs": [
        {
          "output_type": "error",
          "ename": "TypeError",
          "evalue": "ignored",
          "traceback": [
            "\u001b[0;31m---------------------------------------------------------------------------\u001b[0m",
            "\u001b[0;31mTypeError\u001b[0m                                 Traceback (most recent call last)",
            "\u001b[0;32m<ipython-input-24-aae42d317509>\u001b[0m in \u001b[0;36m<module>\u001b[0;34m\u001b[0m\n\u001b[0;32m----> 1\u001b[0;31m \u001b[0ma\u001b[0m\u001b[0;34m/\u001b[0m\u001b[0mb\u001b[0m\u001b[0;34m\u001b[0m\u001b[0;34m\u001b[0m\u001b[0m\n\u001b[0m",
            "\u001b[0;31mTypeError\u001b[0m: unsupported operand type(s) for /: 'str' and 'str'"
          ]
        }
      ],
      "source": [
        "a/b"
      ],
      "id": "S79zmJDAHQed"
    },
    {
      "cell_type": "code",
      "execution_count": 25,
      "metadata": {
        "colab": {
          "base_uri": "https://localhost:8080/",
          "height": 35
        },
        "id": "beRN9HniHQee",
        "outputId": "e477e56b-8d6a-4001-c402-486e1674230f"
      },
      "outputs": [
        {
          "output_type": "execute_result",
          "data": {
            "text/plain": [
              "'77'"
            ],
            "application/vnd.google.colaboratory.intrinsic+json": {
              "type": "string"
            }
          },
          "metadata": {},
          "execution_count": 25
        }
      ],
      "source": [
        "a*2"
      ],
      "id": "beRN9HniHQee"
    },
    {
      "cell_type": "markdown",
      "metadata": {
        "id": "Va-4j-O0HQef"
      },
      "source": [
        "##### Question 10 Create a program that asks the user to enter their name and their age.Print out a message that tells them the year that they will turn 100 years old."
      ],
      "id": "Va-4j-O0HQef"
    },
    {
      "cell_type": "markdown",
      "metadata": {
        "id": "vUjE-A5WHQeg"
      },
      "source": [
        "##### Answer 10"
      ],
      "id": "vUjE-A5WHQeg"
    },
    {
      "cell_type": "code",
      "execution_count": null,
      "metadata": {
        "id": "QEwjo7AeHQeg"
      },
      "outputs": [],
      "source": [
        "2022 - 40 + 100"
      ],
      "id": "QEwjo7AeHQeg"
    },
    {
      "cell_type": "code",
      "execution_count": 18,
      "metadata": {
        "colab": {
          "base_uri": "https://localhost:8080/"
        },
        "id": "vUi1JGgGHQeh",
        "outputId": "b4bed90c-7e68-4522-ae9b-1acecf4b4940"
      },
      "outputs": [
        {
          "output_type": "stream",
          "name": "stdout",
          "text": [
            "Enter your nameanil\n",
            "How old are you?40\n",
            "anil will be 100 years old in the year 2082\n"
          ]
        }
      ],
      "source": [
        "name = input(\"Enter your name\")\n",
        "age = int(input(\"How old are you?\"))\n",
        "year = str((2022-age) + 100)\n",
        "print(f\"{name} will be 100 years old in the year {year}\")"
      ],
      "id": "vUi1JGgGHQeh"
    },
    {
      "cell_type": "markdown",
      "metadata": {
        "id": "MX9hagozHQei"
      },
      "source": [
        "##### 11. Positional Vs. Keyword Arguments In the context of String Replacement Fields"
      ],
      "id": "MX9hagozHQei"
    },
    {
      "cell_type": "markdown",
      "metadata": {
        "id": "HSahITJAHQei"
      },
      "source": [
        "##### Answer 11"
      ],
      "id": "HSahITJAHQei"
    },
    {
      "cell_type": "code",
      "execution_count": 19,
      "metadata": {
        "id": "z8SmeYjJHQej"
      },
      "outputs": [],
      "source": [
        "name=\"anil\"\n",
        "age=40"
      ],
      "id": "z8SmeYjJHQej"
    },
    {
      "cell_type": "code",
      "execution_count": 20,
      "metadata": {
        "colab": {
          "base_uri": "https://localhost:8080/"
        },
        "id": "CdFe1XNoHQej",
        "outputId": "bc2d4ed4-529e-4fbc-ff70-a200f4eca6ea"
      },
      "outputs": [
        {
          "output_type": "stream",
          "name": "stdout",
          "text": [
            "anil is 40 years old\n"
          ]
        }
      ],
      "source": [
        "print(\"{} is {} years old\".format(name,age))"
      ],
      "id": "CdFe1XNoHQej"
    },
    {
      "cell_type": "code",
      "execution_count": 21,
      "metadata": {
        "colab": {
          "base_uri": "https://localhost:8080/"
        },
        "id": "xDN_T3SBHQek",
        "outputId": "ad5b1a18-3595-4f42-eb95-a752675666e5"
      },
      "outputs": [
        {
          "output_type": "stream",
          "name": "stdout",
          "text": [
            "anil is 40 years old\n"
          ]
        }
      ],
      "source": [
        "print(\"{n} is {a} years old\".format(a=age,n=name))"
      ],
      "id": "xDN_T3SBHQek"
    },
    {
      "cell_type": "code",
      "execution_count": 22,
      "metadata": {
        "colab": {
          "base_uri": "https://localhost:8080/"
        },
        "id": "X9exinUrHQel",
        "outputId": "f623a614-2937-4c5e-f63f-8180df7fdc2a"
      },
      "outputs": [
        {
          "output_type": "stream",
          "name": "stdout",
          "text": [
            "\n"
          ]
        }
      ],
      "source": [
        "print()"
      ],
      "id": "X9exinUrHQel"
    },
    {
      "cell_type": "code",
      "source": [],
      "metadata": {
        "id": "6GbBENa8HsN2"
      },
      "id": "6GbBENa8HsN2",
      "execution_count": null,
      "outputs": []
    }
  ],
  "metadata": {
    "kernelspec": {
      "display_name": "Python 3",
      "language": "python",
      "name": "python3"
    },
    "language_info": {
      "codemirror_mode": {
        "name": "ipython",
        "version": 3
      },
      "file_extension": ".py",
      "mimetype": "text/x-python",
      "name": "python",
      "nbconvert_exporter": "python",
      "pygments_lexer": "ipython3",
      "version": "3.7.9"
    },
    "colab": {
      "provenance": []
    }
  },
  "nbformat": 4,
  "nbformat_minor": 5
}